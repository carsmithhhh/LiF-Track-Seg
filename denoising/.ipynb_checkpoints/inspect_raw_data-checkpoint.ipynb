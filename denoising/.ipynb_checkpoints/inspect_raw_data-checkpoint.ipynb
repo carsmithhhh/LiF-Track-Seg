{
 "cells": [
  {
   "cell_type": "code",
   "execution_count": null,
   "id": "bea172ff-b0f0-4308-b152-bb935a769a18",
   "metadata": {},
   "outputs": [],
   "source": [
    "import numpy as np\n",
    "import matplotlib.pyplot as plt\n",
    "import os\n",
    "import sys\n",
    "import pickle\n",
    "\n",
    "sys.path.append(\"..\")"
   ]
  },
  {
   "cell_type": "code",
   "execution_count": null,
   "id": "fa2c9493-da6b-4bbf-8250-5113e77f13ec",
   "metadata": {},
   "outputs": [],
   "source": [
    "from vis_tools.vis_2d import *\n",
    "from vis_tools.vis_3d import *\n"
   ]
  },
  {
   "cell_type": "code",
   "execution_count": null,
   "id": "0ef8ec2b-638d-4720-ab47-ad115b59f7a0",
   "metadata": {},
   "outputs": [],
   "source": [
    "def project_scan(scan): # 3D np array --> 2D np array\n",
    "    return np.sum(scan, axis=0)"
   ]
  },
  {
   "cell_type": "code",
   "execution_count": null,
   "id": "4ae9418c-bb09-4187-bc2a-93913a32837c",
   "metadata": {},
   "outputs": [],
   "source": [
    "data_dir = '/sdf/data/neutrino/carsmith/lif_data'\n",
    "file = 'unnormalized_full_scans.npy'\n",
    "file_path = os.path.join(data_dir, file)\n",
    "data = np.load(file_path, allow_pickle=True) # Includes scan_ids: 696, 704, 705, 719, and 720\n",
    "\n",
    "print(\"Data type:\", type(data))\n",
    "print(\"Data shape:\", data.shape)\n",
    "\n",
    "scan = data[0] # scan_id 696\n",
    "print(\"Scan shape:\", scan.shape)\n",
    "\n",
    "projected_scan = project_scan(scan)\n",
    "print(\"Projected shape:\", projected_scan.shape)\n",
    "\n",
    "fig2 = intensity_hist(projected_scan, bins=150, marks=(5, 95))\n",
    "fig = plot_projection(projected_scan, marks=(5, 95))"
   ]
  },
  {
   "cell_type": "code",
   "execution_count": null,
   "id": "c0ba1ceb-1dd7-4676-8938-03508d050376",
   "metadata": {},
   "outputs": [],
   "source": [
    "#fig = plot_cube(scan[:20, :20, :20])\n",
    "fig = slice_viewer(scan[:250, 1550:1800, :])\n",
    "fig.show()"
   ]
  },
  {
   "cell_type": "code",
   "execution_count": null,
   "id": "6255aa47-4795-4f11-9774-9274cab04279",
   "metadata": {},
   "outputs": [],
   "source": []
  }
 ],
 "metadata": {
  "kernelspec": {
   "display_name": "Python 3 (ipykernel)",
   "language": "python",
   "name": "python3"
  },
  "language_info": {
   "codemirror_mode": {
    "name": "ipython",
    "version": 3
   },
   "file_extension": ".py",
   "mimetype": "text/x-python",
   "name": "python",
   "nbconvert_exporter": "python",
   "pygments_lexer": "ipython3",
   "version": "3.10.12"
  }
 },
 "nbformat": 4,
 "nbformat_minor": 5
}
