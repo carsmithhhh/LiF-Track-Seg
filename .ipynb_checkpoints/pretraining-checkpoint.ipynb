{
 "cells": [
  {
   "cell_type": "code",
   "execution_count": 2,
   "id": "283fa172-b521-49dc-9cf0-a17c15d3a29d",
   "metadata": {},
   "outputs": [
    {
     "name": "stdout",
     "output_type": "stream",
     "text": [
      "cuda:0\n"
     ]
    }
   ],
   "source": [
    "import torch\n",
    "import numpy as np\n",
    "from preparation import *\n",
    "from data_utils import *\n",
    "from transformer_things import *\n",
    "from torch.utils.data import DataLoader\n",
    "import importlib\n",
    "import numpy as np\n",
    "\n",
    "# paths\n",
    "device = torch.device(\"cuda:0\" if torch.cuda.is_available() else \"cpu\")\n",
    "print(device)"
   ]
  },
  {
   "cell_type": "markdown",
   "id": "3085695c-d987-4f99-99de-54e9c574e8a0",
   "metadata": {},
   "source": [
    "### Loading in Data"
   ]
  },
  {
   "cell_type": "code",
   "execution_count": 3,
   "id": "ebdeec17-9a54-4748-939a-b51d996f6036",
   "metadata": {},
   "outputs": [
    {
     "name": "stdout",
     "output_type": "stream",
     "text": [
      "(5, 250, 250)\n",
      "2\n",
      "Cubes shape w/ feature dimension: torch.Size([2, 1, 5, 250, 250])\n"
     ]
    }
   ],
   "source": [
    "# Dummy Data\n",
    "data = np.random.rand(5, 250, 250) # assume each value in the voxel is a fluorescence intensity\n",
    "data_list = [data] * 50\n",
    "\n",
    "dataset = CubeDataset(data_list)\n",
    "\n",
    "sample = dataset[0]\n",
    "print(sample.shape)\n",
    "\n",
    "def custom_collate_fn(batch, mask_percentage=0.6, kernel=12):\n",
    "    cubes = torch.stack([torch.tensor(cube, dtype=torch.float32) for cube in batch])  # (B, Z, Y, X)\n",
    "    B, Z, Y, X = cubes.shape\n",
    "\n",
    "    masks = torch.ones_like(cubes, dtype=torch.float32)\n",
    "    num_blocks = int(mask_percentage * (Z * Y * X) / (kernel ** 3))\n",
    "\n",
    "    visible_cubes = []\n",
    "\n",
    "    for b in range(B):\n",
    "        for _ in range(num_blocks):\n",
    "            zi = np.random.randint(0, max(Z - kernel, 1))\n",
    "            yi = np.random.randint(0, max(Y - kernel, 1))\n",
    "            xi = np.random.randint(0, max(X - kernel, 1))\n",
    "            masks[b, zi:zi + kernel, yi:yi + kernel, xi:xi + kernel] = 0\n",
    "\n",
    "    masked_cubes = cubes * masks\n",
    "\n",
    "    return cubes, masked_cubes, masks  # all are (B, Z, Y, X)\n",
    "\n",
    "sparse_train_loader = DataLoader(\n",
    "    dataset,\n",
    "    batch_size=2,\n",
    "    shuffle=True,\n",
    "    collate_fn=custom_collate_fn,\n",
    "    num_workers=0,\n",
    "    pin_memory=False, # ok because we load data on gpu already ?\n",
    "    drop_last=True\n",
    ")\n",
    "\n",
    "# cubes, masked_cubes, masks = next(iter(sparse_train_loader))\n",
    "# cubes = cubes.unsqueeze(dim=1) # shape (B, C=1, Z, Y, X)\n",
    "# cubes = cubes.to(device)\n",
    "# print(len(cubes))\n",
    "# print(f\"Cubes shape w/ feature dimension: {cubes.shape}\")"
   ]
  },
  {
   "cell_type": "markdown",
   "id": "cafe20b9-f8d9-42a4-b00b-eb751d79148e",
   "metadata": {},
   "source": [
    "### Instantiating le Model"
   ]
  },
  {
   "cell_type": "code",
   "execution_count": null,
   "id": "47b37c2b-5ade-4998-a83f-cf34072f53d3",
   "metadata": {},
   "outputs": [],
   "source": [
    "token_size = (5, 25, 25)\n",
    "embed_dim = 128\n",
    "\n",
    "# all the guys\n",
    "# patch_embedding_model = PatchEmbed3D(patch_size=token_size, embed_dim=embed_dim).to(device)\n",
    "# pos_embedding_model = LearnedPositionalEncoder(in_dim=3, embed_dim=embed_dim).to(device)\n",
    "# transformer_encoder = VisionTransformer3D().to(device)\n",
    "# transformer_decoder = Decoder(embed_dim=embed_dim, hidden_dim=256, num_layers=2, output_dim=output_dim, num_heads=4).to(device)"
   ]
  }
 ],
 "metadata": {
  "kernelspec": {
   "display_name": "Python 3 (ipykernel)",
   "language": "python",
   "name": "python3"
  },
  "language_info": {
   "codemirror_mode": {
    "name": "ipython",
    "version": 3
   },
   "file_extension": ".py",
   "mimetype": "text/x-python",
   "name": "python",
   "nbconvert_exporter": "python",
   "pygments_lexer": "ipython3",
   "version": "3.10.12"
  }
 },
 "nbformat": 4,
 "nbformat_minor": 5
}
